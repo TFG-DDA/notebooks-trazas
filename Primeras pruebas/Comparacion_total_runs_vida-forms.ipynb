{
 "cells": [
  {
   "cell_type": "code",
   "execution_count": 2,
   "id": "17b300af-5e9d-4176-8e38-e90993c5c35b",
   "metadata": {
    "tags": []
   },
   "outputs": [],
   "source": [
    "import pandas as pd\n",
    "df = pd.read_csv(\"TrazasHP_Eventos_Febrero.csv\", delimiter=';')"
   ]
  },
  {
   "cell_type": "code",
   "execution_count": 3,
   "id": "8dd83837-a8e3-4a7a-a3f4-0c7ec7dfd543",
   "metadata": {
    "tags": []
   },
   "outputs": [],
   "source": [
    "level_filtered = df[df['Value.EventType'].str.contains('InicioNivelEvent') | df['Value.EventType'].str.contains('MuerteJugadorEvent') | df['Value.EventType'].str.contains('RecibirDanoEvent')]\n",
    "\n",
    "from collections import defaultdict\n",
    "# Guarda la vida perdida por run y por persona\n",
    "lost_hp = defaultdict(list)\n",
    "# Guarda los niveles que ha empezado por run y por persona\n",
    "lvl_played_run = defaultdict(list)\n",
    "# Al final se dividiran para extraer la vida perdida por nivel por run\n",
    "\n",
    "run = 0\n",
    "current_sid = ''\n",
    "for ind in level_filtered.index:\n",
    "    a = str(level_filtered['Name'][ind])\n",
    "    if a not in current_sid:\n",
    "        run = 0\n",
    "        current_sid = a\n",
    "        \n",
    "    # Cada InicioNivelEvent suma un nivel al total en esa run\n",
    "    if 'InicioNivelEvent' in level_filtered['Value.EventType'][ind]:\n",
    "        # Cuando esta vacio o se aumenta de run, se hace un append a la lista\n",
    "        if not lvl_played_run[a]:\n",
    "            lvl_played_run[a].append(1)\n",
    "        elif len(lvl_played_run[a]) is run:\n",
    "            lvl_played_run[a].append(1)\n",
    "        else:\n",
    "            lvl_played_run[a][run] += 1\n",
    "            \n",
    "    elif 'RecibirDanoEvent' in level_filtered['Value.EventType'][ind]:\n",
    "        if not lost_hp[a]:\n",
    "            lost_hp[a].append(1)\n",
    "        elif len(lost_hp[a]) is run:\n",
    "            lost_hp[a].append(1)\n",
    "        else:\n",
    "            lost_hp[a][run] += 1\n",
    "    \n",
    "    # La unica manera de acabar la run es muriendo, asi se pasa a la siguiente\n",
    "    elif 'MuerteJugadorEvent' in level_filtered['Value.EventType'][ind]:\n",
    "        run += 1"
   ]
  },
  {
   "cell_type": "code",
   "execution_count": 4,
   "id": "1f8b000f-bde7-44fc-8edc-75238202fb2f",
   "metadata": {
    "tags": []
   },
   "outputs": [],
   "source": [
    "# Estructura final que guarda vida perdida por nivel, con tantas entradas como runs\n",
    "hp_level_runs = defaultdict(list)\n",
    "\n",
    "for ind in lost_hp:\n",
    "    aux = []\n",
    "    if lvl_played_run[ind] and lost_hp[ind]:\n",
    "        for i in range(0,len(lost_hp[ind])):\n",
    "            aux.append(lost_hp[ind][i]/ lvl_played_run[ind][i])\n",
    "        hp_level_runs[ind] = aux"
   ]
  },
  {
   "cell_type": "code",
   "execution_count": 5,
   "id": "af542710-90de-4d42-bd9d-fe08ce7f15ef",
   "metadata": {
    "tags": []
   },
   "outputs": [
    {
     "name": "stdout",
     "output_type": "stream",
     "text": [
      "214\n"
     ]
    }
   ],
   "source": [
    "df_forms = pd.read_csv(\"TrazasHP_Forms_Febrero.csv\", delimiter=';')\n",
    "skills = df_forms[['Name','Value.Skill', 'Value.levelDifficulty']].dropna()\n",
    "\n",
    "skillsIDsEASY = defaultdict(list)\n",
    "skillsIDsHARD = defaultdict(list)\n",
    "\n",
    "for ind in skills.index:\n",
    "    if skills['Name'][ind] != 3976523808826057435:\n",
    "        skillsIDsEASY[skills['Name'][ind]].append(skills['Value.Skill'][ind])\n",
    "        \n",
    "print(len(skills))"
   ]
  },
  {
   "cell_type": "code",
   "execution_count": 1,
   "id": "38ae7eaf-6a25-48f6-8344-551f536ee130",
   "metadata": {
    "tags": []
   },
   "outputs": [
    {
     "ename": "NameError",
     "evalue": "name 'skillsIDsEASY' is not defined",
     "output_type": "error",
     "traceback": [
      "\u001b[1;31m---------------------------------------------------------------------------\u001b[0m",
      "\u001b[1;31mNameError\u001b[0m                                 Traceback (most recent call last)",
      "Cell \u001b[1;32mIn[1], line 8\u001b[0m\n\u001b[0;32m      6\u001b[0m x \u001b[38;5;241m=\u001b[39m []\n\u001b[0;32m      7\u001b[0m y \u001b[38;5;241m=\u001b[39m []\n\u001b[1;32m----> 8\u001b[0m \u001b[38;5;28mprint\u001b[39m(\u001b[38;5;28mlen\u001b[39m(skillsIDsEASY))\n\u001b[0;32m     10\u001b[0m \u001b[38;5;28;01mfor\u001b[39;00m ind \u001b[38;5;129;01min\u001b[39;00m skillsIDsEASY:\n\u001b[0;32m     11\u001b[0m     \u001b[38;5;28;01mfor\u001b[39;00m i \u001b[38;5;129;01min\u001b[39;00m \u001b[38;5;28mrange\u001b[39m(\u001b[38;5;241m0\u001b[39m,\u001b[38;5;28mlen\u001b[39m(skillsIDsEASY[ind])):\n",
      "\u001b[1;31mNameError\u001b[0m: name 'skillsIDsEASY' is not defined"
     ]
    }
   ],
   "source": [
    "import matplotlib.pyplot as plt\n",
    "import numpy as np\n",
    "from sklearn.linear_model import LinearRegression\n",
    "from scipy import stats\n",
    "\n",
    "x = []\n",
    "y = []\n",
    "\n",
    "for ind in skillsIDsEASY:\n",
    "    for i in range(0,len(skillsIDsEASY[ind])):\n",
    "        if skillsIDsEASY[ind] and hp_level_runs[str(ind)]:\n",
    "            if skillsIDsEASY[ind][i] < 3:\n",
    "                y.append(hp_level_runs[str(ind)][i])\n",
    "                x.append(0)\n",
    "            elif skillsIDsEASY[ind][i] > 3:\n",
    "                y.append(hp_level_runs[str(ind)][i])\n",
    "                x.append(1)\n",
    "\n",
    "# Linear regression\n",
    "#y_fit = np.array(y).reshape((-1,1))\n",
    "#x_fit = np.array(x)\n",
    "\n",
    "#model = LinearRegression()\n",
    "#model.fit(y_fit,x_fit)\n",
    "#r_sq = model.score(y_fit,x_fit)\n",
    "#print(f\"coefficient of determination: {r_sq}\")\n",
    "#x_pred = np.array([1,5])\n",
    "#y_pred = model.predict(x_pred.reshape((-1,1)))\n",
    "# Fin Linear regression\n",
    "\n",
    "# Point Biserial Correlation\n",
    "print(stats.pointbiserialr(x,y))\n",
    "# Fin Point-Biserial Correlation\n",
    "            \n",
    "data = [[],[]]\n",
    "\n",
    "for i in range(0,len(x)):\n",
    "    data[int(x[i])-1].append(y[i])\n",
    "\n",
    "#print(data)\n",
    "#plt.axline((x_pred[0],y_pred[0]),(x_pred[1],y_pred[1]), color=\"red\")\n",
    "#plt.boxplot(data)\n",
    "plt.scatter(x,y, s=5)\n",
    "\n",
    "plt.xlabel(\"Respuestas de dificultad\")\n",
    "plt.ylabel(\"Media de vida perdida por sala / por run\")\n",
    "plt.title(\"Comparación vida perdida con dificultad percibida\")\n",
    "\n",
    "\n",
    "#plt.savefig(\"Resultados/Vida-Forms.pdf\", format=\"pdf\", bbox_inches=\"tight\")\n",
    "plt.show()"
   ]
  },
  {
   "cell_type": "code",
   "execution_count": null,
   "id": "12bac302-946a-4c11-ad3b-3f319a40994c",
   "metadata": {},
   "outputs": [],
   "source": []
  }
 ],
 "metadata": {
  "kernelspec": {
   "display_name": "Python 3 (ipykernel)",
   "language": "python",
   "name": "python3"
  },
  "language_info": {
   "codemirror_mode": {
    "name": "ipython",
    "version": 3
   },
   "file_extension": ".py",
   "mimetype": "text/x-python",
   "name": "python",
   "nbconvert_exporter": "python",
   "pygments_lexer": "ipython3",
   "version": "3.11.5"
  }
 },
 "nbformat": 4,
 "nbformat_minor": 5
}
