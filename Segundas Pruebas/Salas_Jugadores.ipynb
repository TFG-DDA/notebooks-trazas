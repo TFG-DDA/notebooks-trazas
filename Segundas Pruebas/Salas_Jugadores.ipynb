{
 "cells": [
  {
   "cell_type": "code",
   "execution_count": 6,
   "id": "f85f8718-63f2-4c7d-afea-40d50f414e0f",
   "metadata": {
    "tags": []
   },
   "outputs": [],
   "source": [
    "import pandas as pd\n",
    "df = pd.read_csv(\"trazas_finales.csv\", delimiter=',')"
   ]
  },
  {
   "cell_type": "code",
   "execution_count": 7,
   "id": "8f335d92-9baa-48db-a176-5b7f6b946860",
   "metadata": {
    "tags": []
   },
   "outputs": [],
   "source": [
    "level_filtered = df[df['EventName'].str.contains('StartLevelEvent')]\n",
    "\n",
    "levels_completed = len(level_filtered)"
   ]
  },
  {
   "cell_type": "code",
   "execution_count": 8,
   "id": "325e3f29-73e9-4e1c-ba13-8bdd48f5d0a4",
   "metadata": {},
   "outputs": [],
   "source": [
    "from collections import defaultdict\n",
    "\n",
    "IDs_levels = defaultdict(list)\n",
    "current_id = ''\n",
    "for ind in level_filtered.index:\n",
    "    a = str(level_filtered['Idpruebas'][ind])\n",
    "    if a not in current_id:\n",
    "        current_id = a\n",
    "        IDs_levels[current_id] = 0\n",
    "        \n",
    "    IDs_levels[current_id] += 1 "
   ]
  },
  {
   "cell_type": "code",
   "execution_count": 12,
   "id": "e64f03fb-faac-445b-97ff-bc12202af7af",
   "metadata": {
    "tags": []
   },
   "outputs": [],
   "source": [
    "sin_dda = []\n",
    "con_dda = []\n",
    "\n",
    "casuals_con = []\n",
    "casuals_sin = []\n",
    "\n",
    "hardcores_con = []\n",
    "hardcores_sin = []\n",
    "\n",
    "casual_ids = [9, 7, 6, 4, 12]\n",
    "hardcore_ids = [31,29,28,27,24,22,21,20,18,16]\n",
    "\n",
    "for i in IDs_levels:\n",
    "    if int(i)%2 == 0:\n",
    "        con_dda.append(IDs_levels[i])\n",
    "        if int(i) in casual_ids:\n",
    "            casuals_con.append(IDs_levels[i])\n",
    "        elif int(i) in hardcore_ids:\n",
    "            hardcores_con.append(IDs_levels[i])\n",
    "    else:\n",
    "        sin_dda.append(IDs_levels[i])\n",
    "        if int(i) in casual_ids:\n",
    "            casuals_sin.append(IDs_levels[i])\n",
    "        elif int(i) in hardcore_ids:\n",
    "            hardcores_sin.append(IDs_levels[i])"
   ]
  },
  {
   "cell_type": "code",
   "execution_count": 28,
   "id": "ed942a91-a318-4f2d-bcb4-aea028db03d9",
   "metadata": {
    "tags": []
   },
   "outputs": [
    {
     "data": {
      "image/png": "[encoded data removed]",
      "text/plain": [
       "<Figure size 640x480 with 2 Axes>"
      ]
     },
     "metadata": {},
     "output_type": "display_data"
    }
   ],
   "source": [
    "import matplotlib.pyplot as plt\n",
    "import numpy as np\n",
    "\n",
    "f, axs = plt.subplots(1, 2, sharey=True, sharex=True)\n",
    "axs[0].boxplot(sin_dda)\n",
    "x = np.ones(len(casuals_sin))\n",
    "c_s = axs[0].scatter(x, casuals_sin, marker='x')\n",
    "x = np.ones(len(hardcores_sin))\n",
    "h_s = axs[0].scatter(x, hardcores_sin, alpha=0.5)\n",
    "axs[0].set_title(\"Sin DDA\")\n",
    "\n",
    "axs[1].boxplot(con_dda)\n",
    "x = np.ones(len(casuals_con))\n",
    "c_c = axs[1].scatter(x, casuals_con, marker='x')\n",
    "x = np.ones(len(hardcores_con))\n",
    "h_c = axs[1].scatter(x, hardcores_con, alpha=0.5)\n",
    "axs[1].set_title(\"Con DDA\")\n",
    "\n",
    "plt.tight_layout()\n",
    "\n",
    "f.suptitle(\"Salas completadas sin y con DDA\")\n",
    "f.subplots_adjust(top=0.87)\n",
    "plt.legend((c_s,h_s),\n",
    "           ('Casual', 'Hardcore'),\n",
    "           scatterpoints=1,\n",
    "           loc='lower left',\n",
    "           ncol=3,\n",
    "           fontsize=8)\n",
    "\n",
    "plt.savefig(\"Resultados/Diferencias_DDA.pdf\", format=\"pdf\", bbox_inches=\"tight\")\n",
    "plt.show()"
   ]
  },
  {
   "cell_type": "code",
   "execution_count": null,
   "id": "68ffd455-b444-4aa6-949e-771bbfc9ce92",
   "metadata": {},
   "outputs": [],
   "source": []
  },
  {
   "cell_type": "code",
   "execution_count": null,
   "id": "ba8c7ba5-6ee7-4b42-a880-caeeec5352f4",
   "metadata": {},
   "outputs": [],
   "source": []
  },
  {
   "cell_type": "code",
   "execution_count": null,
   "id": "3a212c51-bfa3-4448-99bd-bc5fb1eab404",
   "metadata": {},
   "outputs": [],
   "source": []
  }
 ],
 "metadata": {
  "kernelspec": {
   "display_name": "Python 3 (ipykernel)",
   "language": "python",
   "name": "python3"
  },
  "language_info": {
   "codemirror_mode": {
    "name": "ipython",
    "version": 3
   },
   "file_extension": ".py",
   "mimetype": "text/x-python",
   "name": "python",
   "nbconvert_exporter": "python",
   "pygments_lexer": "ipython3",
   "version": "3.11.5"
  }
 },
 "nbformat": 4,
 "nbformat_minor": 5
}
