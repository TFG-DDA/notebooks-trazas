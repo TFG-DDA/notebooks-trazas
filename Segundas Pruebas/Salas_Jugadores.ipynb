{
 "cells": [
  {
   "cell_type": "code",
   "execution_count": 2,
   "id": "f85f8718-63f2-4c7d-afea-40d50f414e0f",
   "metadata": {
    "tags": []
   },
   "outputs": [],
   "source": [
    "import pandas as pd\n",
    "df = pd.read_csv(\"trazas.csv\", delimiter=',')"
   ]
  },
  {
   "cell_type": "code",
   "execution_count": 6,
   "id": "8f335d92-9baa-48db-a176-5b7f6b946860",
   "metadata": {
    "tags": []
   },
   "outputs": [
    {
     "name": "stdout",
     "output_type": "stream",
     "text": [
      "5\n"
     ]
    },
    {
     "data": {
      "text/html": [
       "<div>\n",
       "<style scoped>\n",
       "    .dataframe tbody tr th:only-of-type {\n",
       "        vertical-align: middle;\n",
       "    }\n",
       "\n",
       "    .dataframe tbody tr th {\n",
       "        vertical-align: top;\n",
       "    }\n",
       "\n",
       "    .dataframe thead th {\n",
       "        text-align: right;\n",
       "    }\n",
       "</style>\n",
       "<table border=\"1\" class=\"dataframe\">\n",
       "  <thead>\n",
       "    <tr style=\"text-align: right;\">\n",
       "      <th></th>\n",
       "      <th>Timestamp</th>\n",
       "      <th>EventName</th>\n",
       "      <th>Id</th>\n",
       "      <th>Value</th>\n",
       "      <th>LevelId</th>\n",
       "    </tr>\n",
       "  </thead>\n",
       "  <tbody>\n",
       "    <tr>\n",
       "      <th>4</th>\n",
       "      <td>1720627746</td>\n",
       "      <td>StartLevelEvent</td>\n",
       "      <td>6084794328020260997</td>\n",
       "      <td>1</td>\n",
       "      <td>Level3</td>\n",
       "    </tr>\n",
       "    <tr>\n",
       "      <th>11</th>\n",
       "      <td>1720627791</td>\n",
       "      <td>StartLevelEvent</td>\n",
       "      <td>6084794328020260997</td>\n",
       "      <td>2</td>\n",
       "      <td>Level4</td>\n",
       "    </tr>\n",
       "    <tr>\n",
       "      <th>18</th>\n",
       "      <td>1720627861</td>\n",
       "      <td>StartLevelEvent</td>\n",
       "      <td>6084794328020260997</td>\n",
       "      <td>3</td>\n",
       "      <td>Level1</td>\n",
       "    </tr>\n",
       "    <tr>\n",
       "      <th>25</th>\n",
       "      <td>1720627932</td>\n",
       "      <td>StartLevelEvent</td>\n",
       "      <td>6084794328020260997</td>\n",
       "      <td>4</td>\n",
       "      <td>Level5</td>\n",
       "    </tr>\n",
       "    <tr>\n",
       "      <th>34</th>\n",
       "      <td>1720628021</td>\n",
       "      <td>StartLevelEvent</td>\n",
       "      <td>6084794328020260997</td>\n",
       "      <td>5</td>\n",
       "      <td>Level3_Hard</td>\n",
       "    </tr>\n",
       "  </tbody>\n",
       "</table>\n",
       "</div>"
      ],
      "text/plain": [
       "     Timestamp        EventName                   Id Value      LevelId\n",
       "4   1720627746  StartLevelEvent  6084794328020260997     1       Level3\n",
       "11  1720627791  StartLevelEvent  6084794328020260997     2       Level4\n",
       "18  1720627861  StartLevelEvent  6084794328020260997     3       Level1\n",
       "25  1720627932  StartLevelEvent  6084794328020260997     4       Level5\n",
       "34  1720628021  StartLevelEvent  6084794328020260997     5  Level3_Hard"
      ]
     },
     "execution_count": 6,
     "metadata": {},
     "output_type": "execute_result"
    }
   ],
   "source": [
    "level_filtered = df[df['EventName'].str.contains('StartLevelEvent')]\n",
    "\n",
    "levels_completed = len(level_filtered)\n",
    "print(levels_completed)"
   ]
  },
  {
   "cell_type": "code",
   "execution_count": null,
   "id": "325e3f29-73e9-4e1c-ba13-8bdd48f5d0a4",
   "metadata": {},
   "outputs": [],
   "source": []
  }
 ],
 "metadata": {
  "kernelspec": {
   "display_name": "Python 3 (ipykernel)",
   "language": "python",
   "name": "python3"
  },
  "language_info": {
   "codemirror_mode": {
    "name": "ipython",
    "version": 3
   },
   "file_extension": ".py",
   "mimetype": "text/x-python",
   "name": "python",
   "nbconvert_exporter": "python",
   "pygments_lexer": "ipython3",
   "version": "3.11.5"
  }
 },
 "nbformat": 4,
 "nbformat_minor": 5
}
