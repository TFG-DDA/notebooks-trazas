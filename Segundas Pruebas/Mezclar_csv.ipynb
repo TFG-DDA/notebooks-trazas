{
 "cells": [
  {
   "cell_type": "code",
   "execution_count": 4,
   "id": "8903327a-8d74-45b5-b4f7-1342eaea7522",
   "metadata": {
    "tags": []
   },
   "outputs": [
    {
     "name": "stdout",
     "output_type": "stream",
     "text": [
      "['02.csv', '04.csv', '06.csv', '07.csv', '09.csv', '12.csv', '16.csv', '17.csv', '18.csv', '20.csv', '21.csv', '22.csv', '24.csv', '27.csv', '28.csv', '29.csv', '31.csv']\n"
     ]
    }
   ],
   "source": [
    "import os\n",
    "\n",
    "with open(\"trazas_finales.csv\", \"w\") as filecsv:\n",
    "    filecsv.write(\"Idpruebas,Timestamp,EventName,Id,Value,LevelId\\n\")\n",
    "    files = [file for file in os.listdir(\"trazas\") if '.csv' in file]\n",
    "    print(files)\n",
    "    for filename in files:\n",
    "        with open(\"trazas/\"+filename, \"r\") as file:\n",
    "            file.readline()\n",
    "            for line in file:\n",
    "                filecsv.write(os.path.splitext(filename)[0])\n",
    "                filecsv.write(\",\")\n",
    "                filecsv.write(line.rstrip())\n",
    "                filecsv.write(\"\\n\")\n",
    "\n"
   ]
  },
  {
   "cell_type": "code",
   "execution_count": null,
   "id": "5c604b44-0216-443c-a611-3354a639de82",
   "metadata": {},
   "outputs": [],
   "source": []
  }
 ],
 "metadata": {
  "kernelspec": {
   "display_name": "Python 3 (ipykernel)",
   "language": "python",
   "name": "python3"
  },
  "language_info": {
   "codemirror_mode": {
    "name": "ipython",
    "version": 3
   },
   "file_extension": ".py",
   "mimetype": "text/x-python",
   "name": "python",
   "nbconvert_exporter": "python",
   "pygments_lexer": "ipython3",
   "version": "3.11.5"
  }
 },
 "nbformat": 4,
 "nbformat_minor": 5
}
