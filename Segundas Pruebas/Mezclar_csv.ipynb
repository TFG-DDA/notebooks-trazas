{
 "cells": [
  {
   "cell_type": "code",
   "execution_count": 18,
   "id": "8903327a-8d74-45b5-b4f7-1342eaea7522",
   "metadata": {
    "tags": []
   },
   "outputs": [],
   "source": [
    "import os\n",
    "\n",
    "with open(\"trazas_finales.csv\", \"w\") as filecsv:\n",
    "    filecsv.write(\"Timestamp,EventName,Id,Value,LevelId\\n\")\n",
    "    files = [file for file in os.listdir(\"trazas\") if '.csv' in file]\n",
    "    \n",
    "    for filename in files:\n",
    "        with open(filename, \"r\") as file:\n",
    "            file.readline()\n",
    "            for line in file:\n",
    "                filecsv.write(line.rstrip())\n",
    "                filecsv.write(\"\\n\")\n",
    "\n"
   ]
  }
 ],
 "metadata": {
  "kernelspec": {
   "display_name": "Python 3 (ipykernel)",
   "language": "python",
   "name": "python3"
  },
  "language_info": {
   "codemirror_mode": {
    "name": "ipython",
    "version": 3
   },
   "file_extension": ".py",
   "mimetype": "text/x-python",
   "name": "python",
   "nbconvert_exporter": "python",
   "pygments_lexer": "ipython3",
   "version": "3.11.5"
  }
 },
 "nbformat": 4,
 "nbformat_minor": 5
}
