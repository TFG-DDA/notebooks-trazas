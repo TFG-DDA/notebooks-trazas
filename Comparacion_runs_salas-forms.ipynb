{
 "cells": [
  {
   "cell_type": "code",
   "execution_count": 1,
   "id": "5bb0e5c0-3155-492e-9bf9-7a658cade776",
   "metadata": {
    "tags": []
   },
   "outputs": [],
   "source": [
    "import pandas as pd\n",
    "df = pd.read_csv(\"TrazasHP_Eventos_Febrero.csv\", delimiter=';')"
   ]
  },
  {
   "cell_type": "code",
   "execution_count": 2,
   "id": "2f4e5f8b-8ab7-4374-9ad5-385ac9902ea6",
   "metadata": {
    "tags": []
   },
   "outputs": [],
   "source": [
    "level_filtered = df[df['Value.EventType'].str.contains('InicioNivelEvent') | df['Value.EventType'].str.contains('MuerteJugadorEvent')]\n",
    "from collections import defaultdict\n",
    "# Guarda los niveles que se han completado por run y por persona\n",
    "lvl_played_run = defaultdict(list)\n",
    "\n",
    "run = 0\n",
    "current_sid = ''\n",
    "for ind in level_filtered.index:\n",
    "    a = str(level_filtered['Name'][ind])\n",
    "    if a not in current_sid:\n",
    "        run = 0\n",
    "        current_sid = a\n",
    "        \n",
    "    # La unica manera de acabar la run es muriendo, asi se pasa a la siguiente\n",
    "    if 'InicioNivelEvent' in level_filtered['Value.EventType'][ind]:\n",
    "        # Cuando esta vacio o se aumenta de run, se hace un append a la lista\n",
    "        if not lvl_played_run[a]:\n",
    "            lvl_played_run[a].append(1)\n",
    "        elif len(lvl_played_run[a]) is run:\n",
    "            lvl_played_run[a].append(1)\n",
    "        else:\n",
    "            lvl_played_run[a][run] += 1\n",
    "    else:\n",
    "        run += 1"
   ]
  },
  {
   "cell_type": "code",
   "execution_count": 3,
   "id": "a829502f-041e-42bb-912e-8e60817cfce2",
   "metadata": {
    "tags": []
   },
   "outputs": [],
   "source": [
    "df_forms = pd.read_csv(\"TrazasHP_Forms_Febrero.csv\", delimiter=';')\n",
    "skills = df_forms[['Name','Value.Skill']].dropna()\n",
    "\n",
    "skillsIDs = defaultdict(list)\n",
    "for ind in skills.index:\n",
    "    skillsIDs[skills['Name'][ind]].append(skills['Value.Skill'][ind])"
   ]
  },
  {
   "cell_type": "code",
   "execution_count": 7,
   "id": "89bc3f74-07e6-4cbe-95aa-267c3e33cdbf",
   "metadata": {
    "tags": []
   },
   "outputs": [
    {
     "data": {
      "image/png": "[encoded data removed]",
      "text/plain": [
       "<Figure size 640x480 with 1 Axes>"
      ]
     },
     "metadata": {},
     "output_type": "display_data"
    }
   ],
   "source": [
    "import matplotlib.pyplot as plt\n",
    "import numpy as np\n",
    "\n",
    "x = []\n",
    "y = []\n",
    "\n",
    "for ind in skillsIDs:\n",
    "    for i in range(0,len(skillsIDs[ind])):\n",
    "        if skillsIDs[ind] and lvl_played_run[str(ind)]:\n",
    "            if lvl_played_run[str(ind)][i] > 0:\n",
    "                x.append(skillsIDs[ind][i])\n",
    "                y.append(lvl_played_run[str(ind)][i])\n",
    "        \n",
    "plt.scatter(x,y)\n",
    "plt.show()"
   ]
  },
  {
   "cell_type": "code",
   "execution_count": null,
   "id": "67560c86-2e55-43f6-83c5-371dca38e749",
   "metadata": {},
   "outputs": [],
   "source": []
  }
 ],
 "metadata": {
  "kernelspec": {
   "display_name": "Python 3 (ipykernel)",
   "language": "python",
   "name": "python3"
  },
  "language_info": {
   "codemirror_mode": {
    "name": "ipython",
    "version": 3
   },
   "file_extension": ".py",
   "mimetype": "text/x-python",
   "name": "python",
   "nbconvert_exporter": "python",
   "pygments_lexer": "ipython3",
   "version": "3.11.5"
  }
 },
 "nbformat": 4,
 "nbformat_minor": 5
}
