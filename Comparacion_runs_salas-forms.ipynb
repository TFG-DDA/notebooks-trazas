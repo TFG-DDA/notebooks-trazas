{
 "cells": [
  {
   "cell_type": "code",
   "execution_count": 1,
   "id": "5bb0e5c0-3155-492e-9bf9-7a658cade776",
   "metadata": {
    "tags": []
   },
   "outputs": [],
   "source": [
    "import pandas as pd\n",
    "df = pd.read_csv(\"Trazas HP.csv\", delimiter=';')"
   ]
  },
  {
   "cell_type": "code",
   "execution_count": null,
   "id": "2f4e5f8b-8ab7-4374-9ad5-385ac9902ea6",
   "metadata": {
    "tags": []
   },
   "outputs": [],
   "source": [
    "level_filtered = df[df['Value.EventType'].str.contains('InicioNivelEvent') | df['Value.EventType'].str.contains('MuerteJugadorEvent')]\n",
    "\n",
    "from collections import defaultdict\n",
    "# Guarda los niveles que se han completado por run y por persona\n",
    "lvl_played_run = defaultdict(list)\n",
    "\n",
    "run = 0\n",
    "current_sid = ''\n",
    "for ind in level_filtered.index:\n",
    "    a = str(level_filtered['SessionID'][ind])\n",
    "    if a not in current_sid:\n",
    "        run = 0\n",
    "        current_sid = a\n",
    "        \n",
    "    # La unica manera de acabar la run es muriendo, asi se pasa a la siguiente\n",
    "    if 'InicioNivelEvent' in level_filtered['Value.EventType'][ind]:\n",
    "        # Cuando esta vacio o se aumenta de run, se hace un append a la lista\n",
    "        if not lvl_played_run[a]:\n",
    "            lvl_played_run[a].append(1)\n",
    "        elif len(lvl_played_run[a]) is run:\n",
    "            lvl_played_run[a].append(1)\n",
    "        else:\n",
    "            lvl_played_run[a][run] += 1\n",
    "    else:\n",
    "        run += 1"
   ]
  },
  {
   "cell_type": "code",
   "execution_count": 12,
   "id": "a829502f-041e-42bb-912e-8e60817cfce2",
   "metadata": {
    "tags": []
   },
   "outputs": [],
   "source": [
    "df_forms = pd.read_csv(\"FormsCompleto.csv\", delimiter=';')\n",
    "skills = df_forms[['Name','Value.Skill']].dropna()\n",
    "\n",
    "skillsIDs = defaultdict(list)\n",
    "for ind in skills.index:\n",
    "    skillsIDs[skills['Name'][ind]].append(skills['Value.Skill'][ind])"
   ]
  },
  {
   "cell_type": "code",
   "execution_count": 16,
   "id": "89bc3f74-07e6-4cbe-95aa-267c3e33cdbf",
   "metadata": {
    "tags": []
   },
   "outputs": [
    {
     "name": "stdout",
     "output_type": "stream",
     "text": [
      "[13, 18, 46, 7, 7, 6, 12, 17, 5, 7, 6, 10, 13, 7, 8, 7, 9, 6, 7, 15, 15, 1, 4, 15, 10, 17, 1, 1, 1, 2, 2, 2, 2, 9, 10, 5, 12, 10, 20, 8, 8, 8, 2, 6, 6, 9, 3, 6, 6, 14, 8, 6, 10, 13, 15, 9, 10, 9, 1, 4, 2, 2, 1, 5, 1, 1, 11]\n",
      "[4, 2, 1, 2, 3, 2, 2, 2, 2, 3, 2, 2, 4, 2, 5, 4, 4, 5, 5, 4, 3, 2, 3, 2, 4, 3, 1, 3, 4, 4, 3, 3, 4, 4, 2, 3, 2, 2, 3, 3, 3, 4, 5, 4, 4, 5, 4, 4, 4, 2, 3, 4, 3, 3, 4, 4, 4, 2, 4, 4, 5, 3, 3, 3, 1, 4, 2]\n"
     ]
    },
    {
     "data": {
      "image/png": "[encoded data removed]",
      "text/plain": [
       "<Figure size 640x480 with 1 Axes>"
      ]
     },
     "metadata": {},
     "output_type": "display_data"
    }
   ],
   "source": [
    "import matplotlib.pyplot as plt\n",
    "import numpy as np\n",
    "\n",
    "x = []\n",
    "y = []\n",
    "\n",
    "for ind in skillsIDs:\n",
    "    for i in range(0,len(skillsIDs[ind])):\n",
    "        if skillsIDs[ind] and lvl_played_run[str(ind)]:\n",
    "            x.append(skillsIDs[ind][i])\n",
    "            y.append(lvl_played_run[str(ind)][i])\n",
    "        \n",
    "print(y)\n",
    "print(x)\n",
    "plt.scatter(x,y)\n",
    "plt.show()"
   ]
  },
  {
   "cell_type": "code",
   "execution_count": null,
   "id": "097074d5-d329-49a3-b204-1903c8ae5d53",
   "metadata": {},
   "outputs": [],
   "source": []
  }
 ],
 "metadata": {
  "kernelspec": {
   "display_name": "Python 3 (ipykernel)",
   "language": "python",
   "name": "python3"
  },
  "language_info": {
   "codemirror_mode": {
    "name": "ipython",
    "version": 3
   },
   "file_extension": ".py",
   "mimetype": "text/x-python",
   "name": "python",
   "nbconvert_exporter": "python",
   "pygments_lexer": "ipython3",
   "version": "3.11.5"
  }
 },
 "nbformat": 4,
 "nbformat_minor": 5
}
