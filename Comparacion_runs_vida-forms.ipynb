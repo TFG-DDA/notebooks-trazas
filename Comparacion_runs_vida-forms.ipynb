{
 "cells": [
  {
   "cell_type": "code",
   "execution_count": 1,
   "id": "17b300af-5e9d-4176-8e38-e90993c5c35b",
   "metadata": {
    "tags": []
   },
   "outputs": [],
   "source": [
    "import pandas as pd\n",
    "df = pd.read_csv(\"Trazas HP.csv\", delimiter=';')"
   ]
  },
  {
   "cell_type": "code",
   "execution_count": null,
   "id": "8dd83837-a8e3-4a7a-a3f4-0c7ec7dfd543",
   "metadata": {
    "tags": []
   },
   "outputs": [],
   "source": [
    "level_filtered = df[df['Value.EventType'].str.contains('InicioNivelEvent') | df['Value.EventType'].str.contains('MuerteJugadorEvent') | df['Value.EventType'].str.contains('RecibirDanoEvent')]\n",
    "\n",
    "from collections import defaultdict\n",
    "# Guarda la vida perdida por run y por persona\n",
    "lost_hp = defaultdict(list)\n",
    "# Guarda los niveles que ha empezado por run y por persona\n",
    "lvl_played_run = defaultdict(list)\n",
    "# Al final se dividiran para extraer la vida perdida por nivel por run\n",
    "\n",
    "run = 0\n",
    "current_sid\n",
    "for ind in level_filtered.index:\n",
    "    a = str(level_filtered['SessionID'][ind])\n",
    "    if a not in current_sid:\n",
    "        run = 0\n",
    "        current_sid = a\n",
    "        \n",
    "    # Cada InicioNivelEvent suma un nivel al total en esa run\n",
    "    if 'InicioNivelEvent' in level_filtered['Value.EventType'][ind]:\n",
    "        # Cuando esta vacio o se aumenta de run, se hace un append a la lista\n",
    "        if not lvl_played_run[a]:\n",
    "            lvl_played_run[a].append(1)\n",
    "        elif len(lvl_played_run[a]) is run:\n",
    "            lvl_played_run[a].append(1)\n",
    "        else:\n",
    "            lvl_played_run[a][run] += 1\n",
    "            \n",
    "    elif 'RecibirDanoEvent' in level_filtered['Value.EventType'][ind]:\n",
    "        if not lost_hp[a]:\n",
    "            lost_hp[a].append(1)\n",
    "        elif len(lost_hp[a]) is run:\n",
    "            lost_hp[a].append(1)\n",
    "        else:\n",
    "            lost_hp[a][run] += 1\n",
    "    \n",
    "    # La unica manera de acabar la run es muriendo, asi se pasa a la siguiente\n",
    "    elif 'MuerteJugadorEvent' in level_filtered['Value.EventType'][ind]:\n",
    "        run += 1"
   ]
  },
  {
   "cell_type": "code",
   "execution_count": null,
   "id": "1f8b000f-bde7-44fc-8edc-75238202fb2f",
   "metadata": {
    "tags": []
   },
   "outputs": [],
   "source": [
    "# Estructura final que guarda vida perdida por nivel, con tantas entradas como runs\n",
    "hp_level_runs = defaultdict(list)\n",
    "\n",
    "for ind in lost_hp:\n",
    "    aux = []\n",
    "    if lvl_played_run[ind] and lost_hp[ind]:\n",
    "        for i in range(0,len(lost_hp[ind])):\n",
    "            aux.append(lost_hp[ind][i]/ lvl_played_run[ind][i])\n",
    "        hp_level_runs[ind] = aux"
   ]
  },
  {
   "cell_type": "code",
   "execution_count": null,
   "id": "af542710-90de-4d42-bd9d-fe08ce7f15ef",
   "metadata": {
    "tags": []
   },
   "outputs": [],
   "source": [
    "df_forms = pd.read_csv(\"FormsCompleto.csv\", delimiter=';')\n",
    "skills = df_forms[['Name','Value.Skill']].dropna()\n",
    "\n",
    "skillsIDs = defaultdict(list)\n",
    "for ind in skills.index:\n",
    "    skillsIDs[skills['Name'][ind]].append(skills['Value.Skill'][ind])"
   ]
  },
  {
   "cell_type": "code",
   "execution_count": 75,
   "id": "38ae7eaf-6a25-48f6-8344-551f536ee130",
   "metadata": {
    "tags": []
   },
   "outputs": [
    {
     "data": {
      "image/png": "[encoded data removed]",
      "text/plain": [
       "<Figure size 640x480 with 1 Axes>"
      ]
     },
     "metadata": {},
     "output_type": "display_data"
    }
   ],
   "source": [
    "import matplotlib.pyplot as plt\n",
    "import numpy as np\n",
    "\n",
    "x = []\n",
    "y = []\n",
    "\n",
    "for ind in skillsIDs:\n",
    "    for i in range(0,len(skillsIDs[ind])):\n",
    "        if skillsIDs[ind] and hp_level_runs[str(ind)]:\n",
    "            x.append(skillsIDs[ind][i])\n",
    "            y.append(hp_level_runs[str(ind)][i])\n",
    "        \n",
    "    \n",
    "plt.scatter(x,y)\n",
    "plt.show()"
   ]
  },
  {
   "cell_type": "code",
   "execution_count": null,
   "id": "09f21e18-a1f9-4b5d-a6d0-7b34257e7e6e",
   "metadata": {},
   "outputs": [],
   "source": []
  }
 ],
 "metadata": {
  "kernelspec": {
   "display_name": "Python 3 (ipykernel)",
   "language": "python",
   "name": "python3"
  },
  "language_info": {
   "codemirror_mode": {
    "name": "ipython",
    "version": 3
   },
   "file_extension": ".py",
   "mimetype": "text/x-python",
   "name": "python",
   "nbconvert_exporter": "python",
   "pygments_lexer": "ipython3",
   "version": "3.11.5"
  }
 },
 "nbformat": 4,
 "nbformat_minor": 5
}
