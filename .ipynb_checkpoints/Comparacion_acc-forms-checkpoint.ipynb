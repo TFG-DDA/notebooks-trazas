{
 "cells": [
  {
   "cell_type": "code",
   "execution_count": 3,
   "id": "d584eaa5-3f1c-4252-8641-6923ce94379e",
   "metadata": {
    "tags": []
   },
   "outputs": [],
   "source": [
    "import pandas as pd\n",
    "df = pd.read_csv(\"Trazas HP.csv\", delimiter=';')"
   ]
  },
  {
   "cell_type": "code",
   "execution_count": 4,
   "id": "61d3fcb5-1c3a-4752-b7e4-e8af8d1c2cdb",
   "metadata": {
    "tags": []
   },
   "outputs": [],
   "source": [
    "acc = df[['SessionID','Value.Hits','Value.Weapon']].dropna()\n",
    "\n",
    "from collections import defaultdict\n",
    "hitsIDs = defaultdict(list)\n",
    "weaponsIDs = defaultdict(list)\n",
    "\n",
    "for ind in acc.index:\n",
    "    a = str(acc['SessionID'][ind])\n",
    "    hitsIDs[a].append(acc['Value.Hits'][ind])\n",
    "    weaponsIDs[a].append(acc['Value.Weapon'][ind])"
   ]
  },
  {
   "cell_type": "code",
   "execution_count": 44,
   "id": "49028e8e-59c1-4de6-80d0-3c12a5f7082b",
   "metadata": {
    "tags": []
   },
   "outputs": [],
   "source": [
    "accuracyIDs = defaultdict(list)\n",
    "\n",
    "# Balas necesarias de cada tipo para pasar un nivel, cuantas mas balas gaste peor precisión tendrá\n",
    "weaponScores = {\n",
    "    'Sniper': 33,\n",
    "    'Lanzallamas': 264,\n",
    "    'Metralleta': 132,\n",
    "    'Minigun': 132,\n",
    "    'Pistol': 88,\n",
    "    'Infite': -30,\n",
    "    'Rafagas': 132,\n",
    "    'Shotgun': 176\n",
    "}\n",
    "\n",
    "\n",
    "for ind in weaponsIDs:\n",
    "    sid_acc = 0\n",
    "    for j in range(0, len(weaponsIDs[ind])):\n",
    "        current_acc = 0\n",
    "        if weaponsIDs[ind][j] == 'Bazooka' or weaponsIDs[ind][j] == 'GrenadeLauncher':\n",
    "            current_acc += 1\n",
    "        elif weaponsIDs[ind][j] == 'Infite':\n",
    "            current_acc += hitsIDs[ind][j]/weaponScores[weaponsIDs[ind][j]]\n",
    "        elif hitsIDs[ind][j] > 0:\n",
    "            current_acc += weaponScores[weaponsIDs[ind][j]]/hitsIDs[ind][j]\n",
    "            \n",
    "        if current_acc > 1:\n",
    "            sid_acc += 1\n",
    "        else:\n",
    "            sid_acc += current_acc\n",
    "        \n",
    "    if len(weaponsIDs[ind]) > 0:\n",
    "        accuracyIDs[ind] = sid_acc / (len(weaponsIDs[ind]) / 2)"
   ]
  },
  {
   "cell_type": "code",
   "execution_count": 45,
   "id": "f9980438-1735-4f5b-ac1b-072535d02ffd",
   "metadata": {},
   "outputs": [],
   "source": [
    "df_forms = pd.read_csv(\"FormsDesktop.csv\", delimiter=';')\n",
    "skills = df_forms[['Name','Value.Forms.Skill']].dropna()\n",
    "\n",
    "skillsIDs = defaultdict(list)\n",
    "\n",
    "for ind in skills.index:\n",
    "    skillsIDs[skills['Name'][ind]].append(skills['Value.Forms.Skill'][ind])\n",
    "    \n",
    "for ind in skillsIDs:\n",
    "    mean = 0\n",
    "    for j in range(0,len(skillsIDs[ind])):\n",
    "        mean += skillsIDs[ind][j]\n",
    "        \n",
    "    skillsIDs[ind] = mean/len(skillsIDs[ind])"
   ]
  },
  {
   "cell_type": "code",
   "execution_count": 46,
   "id": "4db7ed2a-71cd-48c6-835c-43397b6db255",
   "metadata": {
    "tags": []
   },
   "outputs": [
    {
     "name": "stdout",
     "output_type": "stream",
     "text": [
      "defaultdict(<class 'list'>, {'1170930898144137358': 0.9749999999999999, '1348597222705622771': 0.9036877909058358, '1669824004329016260': 0.9444444444444445, '1754805883208873149': 1.0, '1954032360092724577': 0.8991954022988505, '2079816969066347919': 0.9656015037593983, '2593081460619558306': 0.8559990662931839, '2635443620960614827': 0.8901738473167045, '2929951246141652755': 0.9583333333333333, '3188471634300217347': 0.8666666666666667, '4790264683402568489': 0.9770833333333333, '5986391473002579995': 0.0, '6137042090175494155': 1.0, '6509716804434035048': 1.0, '6611222696482831316': 0.91584883818778, '6743655186882880849': 0.9380770337485098, '6764646272537405998': 0.945679012345679, '7578375308724127810': 1.0, '7633398167979153821': 0.9374542124542126, '7961949740771509987': 0.9828571428571429, '8093290578820947228': 0.0, '8130121790971488349': 0.6533333333333333, '8489975859974970317': 0.9757575757575758, '8559074508070845435': 0.6689912280701755, '8960612724282952366': 0.9718550426471219})\n"
     ]
    },
    {
     "data": {
      "image/png": "[encoded data removed]",
      "text/plain": [
       "<Figure size 640x480 with 1 Axes>"
      ]
     },
     "metadata": {},
     "output_type": "display_data"
    }
   ],
   "source": [
    "import matplotlib.pyplot as plt\n",
    "import numpy as np\n",
    "\n",
    "x = []\n",
    "y = []\n",
    "\n",
    "for ind in skillsIDs:\n",
    "    x.append(skillsIDs[ind])\n",
    "    y.append(accuracyIDs[str(ind)])\n",
    "    \n",
    "plt.scatter(x,y)\n",
    "plt.show()"
   ]
  },
  {
   "cell_type": "code",
   "execution_count": null,
   "id": "429dc980-1ac0-41a5-aa8b-ca0be943dd0c",
   "metadata": {},
   "outputs": [],
   "source": []
  },
  {
   "cell_type": "code",
   "execution_count": null,
   "id": "fdb445b9-1086-4b58-a3b2-02c53dc67935",
   "metadata": {},
   "outputs": [],
   "source": []
  }
 ],
 "metadata": {
  "kernelspec": {
   "display_name": "Python 3 (ipykernel)",
   "language": "python",
   "name": "python3"
  },
  "language_info": {
   "codemirror_mode": {
    "name": "ipython",
    "version": 3
   },
   "file_extension": ".py",
   "mimetype": "text/x-python",
   "name": "python",
   "nbconvert_exporter": "python",
   "pygments_lexer": "ipython3",
   "version": "3.11.5"
  }
 },
 "nbformat": 4,
 "nbformat_minor": 5
}
