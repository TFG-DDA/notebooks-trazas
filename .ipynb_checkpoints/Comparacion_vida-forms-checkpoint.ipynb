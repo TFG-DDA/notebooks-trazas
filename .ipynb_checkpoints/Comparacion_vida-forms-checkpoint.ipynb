{
 "cells": [
  {
   "cell_type": "code",
   "execution_count": null,
   "id": "9b67bed1-08f1-4e81-8a69-6073befdca73",
   "metadata": {
    "tags": []
   },
   "outputs": [],
   "source": [
    "import pandas as pd\n",
    "df = pd.read_csv(\"Trazas HP.csv\", delimiter=';')"
   ]
  },
  {
   "cell_type": "code",
   "execution_count": 34,
   "id": "cac231f6-b144-462e-a023-c4be8f9764f4",
   "metadata": {
    "tags": []
   },
   "outputs": [],
   "source": [
    "hp_events = df[['SessionID','Value.Vida']].dropna()\n",
    "\n",
    "from collections import defaultdict\n",
    "lost_hp = defaultdict(int)\n",
    "\n",
    "for ind in hp_events.index:\n",
    "    a = str(hp_events['SessionID'][ind])\n",
    "    if lost_hp[a] is None:\n",
    "        lost_hp[a] = 1\n",
    "    else:\n",
    "        lost_hp[a] += 1\n",
    "        "
   ]
  },
  {
   "cell_type": "code",
   "execution_count": 1,
   "id": "c989b96a-0ec1-4977-8f0d-7aef17ace62f",
   "metadata": {
    "tags": []
   },
   "outputs": [
    {
     "ename": "NameError",
     "evalue": "name 'df' is not defined",
     "output_type": "error",
     "traceback": [
      "\u001b[1;31m---------------------------------------------------------------------------\u001b[0m",
      "\u001b[1;31mNameError\u001b[0m                                 Traceback (most recent call last)",
      "Cell \u001b[1;32mIn[1], line 1\u001b[0m\n\u001b[1;32m----> 1\u001b[0m level_filtered \u001b[38;5;241m=\u001b[39m df[df[\u001b[38;5;124m'\u001b[39m\u001b[38;5;124mValue.EventType\u001b[39m\u001b[38;5;124m'\u001b[39m]\u001b[38;5;241m.\u001b[39mstr\u001b[38;5;241m.\u001b[39mcontains(\u001b[38;5;124m'\u001b[39m\u001b[38;5;124mFinNivelEvent\u001b[39m\u001b[38;5;124m'\u001b[39m)]\n\u001b[0;32m      2\u001b[0m levels_filtered\u001b[38;5;241m.\u001b[39mhead()\n\u001b[0;32m      3\u001b[0m levels_ \u001b[38;5;241m=\u001b[39m defaultdict(\u001b[38;5;28mint\u001b[39m)\n",
      "\u001b[1;31mNameError\u001b[0m: name 'df' is not defined"
     ]
    }
   ],
   "source": [
    "level_filtered = df[df['Value.EventType'].str.contains('FinNivelEvent')]\n",
    "level_filtered.head()\n",
    "levels_ = defaultdict(int)\n",
    "\n",
    "for ind in level_filtered.index:\n",
    "    a = str(level_filtered['SessionID'][ind])\n",
    "    if levels_[a] is None:\n",
    "        levels_[a] = 1\n",
    "    else:\n",
    "        levels_[a] += 1"
   ]
  },
  {
   "cell_type": "code",
   "execution_count": 36,
   "id": "ea317b23-af7c-489a-9296-1b228702e15d",
   "metadata": {
    "tags": []
   },
   "outputs": [],
   "source": [
    "df_forms = pd.read_csv(\"FormsCompleto.csv\", delimiter=';')\n",
    "skills = df_forms[['Name','Value.Skill']].dropna()\n",
    "\n",
    "skillsIDs = defaultdict(list)\n",
    "\n",
    "for ind in skills.index:\n",
    "    skillsIDs[skills['Name'][ind]].append(skills['Value.Skill'][ind])\n",
    "    \n",
    "for ind in skillsIDs:\n",
    "    mean = 0\n",
    "    for j in range(0,len(skillsIDs[ind])):\n",
    "        mean += skillsIDs[ind][j]\n",
    "        \n",
    "    skillsIDs[ind] = mean/len(skillsIDs[ind])"
   ]
  },
  {
   "cell_type": "code",
   "execution_count": 37,
   "id": "f0bebd4a-2698-4c70-bbda-a0dbf6665d0d",
   "metadata": {
    "tags": []
   },
   "outputs": [
    {
     "data": {
      "image/png": "[encoded data removed]",
      "text/plain": [
       "<Figure size 640x480 with 1 Axes>"
      ]
     },
     "metadata": {},
     "output_type": "display_data"
    }
   ],
   "source": [
    "import matplotlib.pyplot as plt\n",
    "import numpy as np\n",
    "\n",
    "x = []\n",
    "y = []\n",
    "\n",
    "for ind in skillsIDs:\n",
    "    x.append(skillsIDs[ind])\n",
    "    y.append(lost_hp[str(ind)]/(levels_[str(ind)]+1))\n",
    "    \n",
    "plt.scatter(x,y)\n",
    "plt.show()"
   ]
  },
  {
   "cell_type": "code",
   "execution_count": null,
   "id": "ac01793f-3467-4a62-ba7c-9f695d8b24ca",
   "metadata": {},
   "outputs": [],
   "source": []
  }
 ],
 "metadata": {
  "kernelspec": {
   "display_name": "Python 3 (ipykernel)",
   "language": "python",
   "name": "python3"
  },
  "language_info": {
   "codemirror_mode": {
    "name": "ipython",
    "version": 3
   },
   "file_extension": ".py",
   "mimetype": "text/x-python",
   "name": "python",
   "nbconvert_exporter": "python",
   "pygments_lexer": "ipython3",
   "version": "3.11.5"
  }
 },
 "nbformat": 4,
 "nbformat_minor": 5
}
